{
 "cells": [
  {
   "cell_type": "code",
   "execution_count": 12,
   "metadata": {
    "collapsed": true
   },
   "outputs": [],
   "source": [
    "fname = open('acc_star.sam') .readlines()\n",
    "fname = [i.strip().split('\\t') for i in fname][3:]"
   ]
  },
  {
   "cell_type": "code",
   "execution_count": 13,
   "metadata": {
    "collapsed": false
   },
   "outputs": [
    {
     "data": {
      "text/plain": [
       "[['ERR1138638.1961739',\n",
       "  '16',\n",
       "  'NC_000072.6:c48573845-48568696',\n",
       "  '1724',\n",
       "  '255',\n",
       "  '35M200N65M',\n",
       "  '*',\n",
       "  '0',\n",
       "  '0',\n",
       "  'TCCAAGAGATCGGTGTGGACAGAGCTGAAGAAGTGCTCTTCTCAGCTGGCACCTTTGTGAGGTTGGAATTTAAGCTCCAGCAGACCAACTGCCCCAAGAA',\n",
       "  'DDDDEDDDDDDDDDDDDEDEEEEFFFFFFFHHHHHJJJJJJJJJJJJJJIHJJJJJJJJJJJJJIJJJJJJJJJJJJJJJJJIHJJJHHHHHDFFFFCCC',\n",
       "  'NH:i:1',\n",
       "  'HI:i:1',\n",
       "  'AS:i:98',\n",
       "  'nM:i:0'],\n",
       " ['ERR1138638.1963853',\n",
       "  '16',\n",
       "  'NC_000072.6:c48573845-48568696',\n",
       "  '4042',\n",
       "  '255',\n",
       "  '100M',\n",
       "  '*',\n",
       "  '0',\n",
       "  '0',\n",
       "  'ACTTCACCTTACTCCCTGTACAGCTGTGGCAGCACCCAGCAGGAGCATATCGTCTCCCAGAGACTTTCAACTCCAGGCTAATAAAATTGCTGAGTCTGTT',\n",
       "  'CDDDDDDDDDDDDDDEEDEEEEDEFFFFHHHHHGJJJJJJJJJJJJJJJJJIJJJJJJJJJIHJJJJJIJJJJJJJJJJJJIJJJIJHHHHHFFFFFCCC',\n",
       "  'NH:i:1',\n",
       "  'HI:i:1',\n",
       "  'AS:i:98',\n",
       "  'nM:i:0'],\n",
       " ['ERR1138638.1979608',\n",
       "  '0',\n",
       "  'NC_000072.6:c48573845-48568696',\n",
       "  '4665',\n",
       "  '255',\n",
       "  '2S97M1S',\n",
       "  '*',\n",
       "  '0',\n",
       "  '0',\n",
       "  'AGAGAGAGAGAGAGAGAGAGAGAGAGAGAGAGAGAGAGAGAGAGAGAGAGAGAGAGAGAGAGAGAGAGAGAGAGAGAGAGAGAGAGAGAGAGAGAGAGGG',\n",
       "  '?@@FABBDDFBFFD@FDFDFHGIGFD?DBGDHD??BGIGIG@=F;DHE=E;B,555?=BD=;@<<5?B1822(82?########################',\n",
       "  'NH:i:1',\n",
       "  'HI:i:1',\n",
       "  'AS:i:83',\n",
       "  'nM:i:6'],\n",
       " ['ERR1138638.1980495',\n",
       "  '0',\n",
       "  'NC_000072.6:c48573845-48568696',\n",
       "  '4679',\n",
       "  '1',\n",
       "  '2S83M15S',\n",
       "  '*',\n",
       "  '0',\n",
       "  '0',\n",
       "  'AGAGAGAGAGAGAGAGAGAGAGAGAGAGAGAGAGAGAGAGAGAGAGAGAGAGAGAGGGAGAGAGAGAGAGAGAGAGAGAGAGAGGGGGGATAGGGAGAGG',\n",
       "  '=??D:BABDDCD;E:C:E8AEEEEDDCDDD68B@/?7?6;;;@C@@;;5A(?,;5=(3>>;?188<(8<>0<<?<>??######################',\n",
       "  'NH:i:3',\n",
       "  'HI:i:1',\n",
       "  'AS:i:77',\n",
       "  'nM:i:2'],\n",
       " ['ERR1138638.1980495',\n",
       "  '256',\n",
       "  'NC_000072.6:c48573845-48568696',\n",
       "  '4675',\n",
       "  '1',\n",
       "  '87M13S',\n",
       "  '*',\n",
       "  '0',\n",
       "  '0',\n",
       "  'AGAGAGAGAGAGAGAGAGAGAGAGAGAGAGAGAGAGAGAGAGAGAGAGAGAGAGAGGGAGAGAGAGAGAGAGAGAGAGAGAGAGGGGGGATAGGGAGAGG',\n",
       "  '=??D:BABDDCD;E:C:E8AEEEEDDCDDD68B@/?7?6;;;@C@@;;5A(?,;5=(3>>;?188<(8<>0<<?<>??######################',\n",
       "  'NH:i:3',\n",
       "  'HI:i:2',\n",
       "  'AS:i:77',\n",
       "  'nM:i:4'],\n",
       " ['ERR1138638.1980495',\n",
       "  '256',\n",
       "  'NC_000072.6:c48573845-48568696',\n",
       "  '4679',\n",
       "  '1',\n",
       "  '82M18S',\n",
       "  '*',\n",
       "  '0',\n",
       "  '0',\n",
       "  'AGAGAGAGAGAGAGAGAGAGAGAGAGAGAGAGAGAGAGAGAGAGAGAGAGAGAGAGGGAGAGAGAGAGAGAGAGAGAGAGAGAGGGGGGATAGGGAGAGG',\n",
       "  '=??D:BABDDCD;E:C:E8AEEEEDDCDDD68B@/?7?6;;;@C@@;;5A(?,;5=(3>>;?188<(8<>0<<?<>??######################',\n",
       "  'NH:i:3',\n",
       "  'HI:i:3',\n",
       "  'AS:i:76',\n",
       "  'nM:i:2'],\n",
       " ['ERR1138638.1989973',\n",
       "  '16',\n",
       "  'NC_000072.6:c48573845-48568696',\n",
       "  '1549',\n",
       "  '255',\n",
       "  '100M',\n",
       "  '*',\n",
       "  '0',\n",
       "  '0',\n",
       "  'TTTCAAGAACCATAGGACTGAGGTGAAGCCATGAAGTGCTTGCTGATCTCCCTAGCCCTATGGCTGGGCACAGTGGGCACACGTGGGACAGAGCCCGAAC',\n",
       "  'DDDDDDDC@DDDDDDDCDDDDDDDDDDEEEEEEFFFFFHHHHHJJIIIJJJJJJJJJJJJJJJIJJJIIHJJJJJJJIHIHJJJJJJHHHHHFFFFFCBC',\n",
       "  'NH:i:1',\n",
       "  'HI:i:1',\n",
       "  'AS:i:94',\n",
       "  'nM:i:2'],\n",
       " ['ERR1138638.1990627',\n",
       "  '16',\n",
       "  'NC_000072.6:c48573845-48568696',\n",
       "  '1244',\n",
       "  '255',\n",
       "  '9M303N90M1S',\n",
       "  '*',\n",
       "  '0',\n",
       "  '0',\n",
       "  'ATTTTCAAGAACCATAGGACTGAGGTGAAGCCATGAAGTGCTTGCTGATCTCCCTAGCCCTATGGCTGGGCACAGTGGGCACACGTGGGACAGAGCCCGG',\n",
       "  'DDDDDDDDDCADDDDDDDDDDDDDEEEEEDFFFFFHHHHHJJJJJJJJJJJIJJJJJJJJJJJJJJJJJJIIJJJJJJJJIJJJJJJHHHHHFFFFFCCC',\n",
       "  'NH:i:1',\n",
       "  'HI:i:1',\n",
       "  'AS:i:97',\n",
       "  'nM:i:0'],\n",
       " ['ERR1138638.1996209',\n",
       "  '0',\n",
       "  'NC_000072.6:c48573845-48568696',\n",
       "  '4680',\n",
       "  '255',\n",
       "  '90M10S',\n",
       "  '*',\n",
       "  '0',\n",
       "  '0',\n",
       "  'GAGAGAGAGAGAGAGAGAGAGAGAGAGAGAGAGAGAGAGAGAGAGAGAGAGAGAGAGAGAGAGAGAGAGAGAGGGGGAGAGAAAAACACACATACACAGA',\n",
       "  'BBCFFFFFHHHDHGHIIHHHIJIHIGIIIIIBHGIGIJIIIEFEHJJIEHHDFFFDDDDDDDDBDBB@B?@??###########################',\n",
       "  'NH:i:1',\n",
       "  'HI:i:1',\n",
       "  'AS:i:74',\n",
       "  'nM:i:7'],\n",
       " ['ERR1138638.1996550',\n",
       "  '0',\n",
       "  'NC_000072.6:c48573845-48568696',\n",
       "  '3220',\n",
       "  '255',\n",
       "  '100M',\n",
       "  '*',\n",
       "  '0',\n",
       "  '0',\n",
       "  'GGCCAGAGCAGGAAGCTGAGAGCTCACAGCCTTCCTCGTAAACAGAACGCAGAAAGAGTGAATTGGGAGTGGTTCGAGGTTTTAAAATCTTAAAGCCTGC',\n",
       "  '@CCBDDBDBCCFDFHIEHHDFGBDFFAFC=?CFD@?FD:?DH<?DBB@?AAF@GHAH@).7=CA>;?;?5>=CC>8=;;39CB>ACC>>>>AACC@BCBB',\n",
       "  'NH:i:1',\n",
       "  'HI:i:1',\n",
       "  'AS:i:98',\n",
       "  'nM:i:0'],\n",
       " ['ERR1138638.1998998',\n",
       "  '16',\n",
       "  'NC_000072.6:c48573845-48568696',\n",
       "  '1622',\n",
       "  '255',\n",
       "  '100M',\n",
       "  '*',\n",
       "  '0',\n",
       "  '0',\n",
       "  'TGGGCACACGTGGGACAGAGTCCGAACTCAGCGAGACCCAGCGCAGGAGCCTACAGGTGGCTCTGGAGGAGTTCCACAAACACCCACCTGTGCAGTTGGC',\n",
       "  'DDDDDDDDDDDDDDDDDDDDDDDDEDDDDDDEEEEEDFFHHIJJJJJJIJJJIJIJJJJJIIJJJJJJJJJJJIIHJIIHFFJIHEJHHHHHFFFFFCCC',\n",
       "  'NH:i:1',\n",
       "  'HI:i:1',\n",
       "  'AS:i:96',\n",
       "  'nM:i:1'],\n",
       " ['ERR1138638.2005973',\n",
       "  '0',\n",
       "  'NC_000072.6:c48573845-48568696',\n",
       "  '4665',\n",
       "  '255',\n",
       "  '4S96M',\n",
       "  '*',\n",
       "  '0',\n",
       "  '0',\n",
       "  'AGAGAGAGAGAGAGAGAGAGAGAGAGAGAGAGAGAGAGAGAGAGAGAGAGAGAGAGAGAGAGAGAGAGAGAGAGAGAGGGAGAGAGAGAGAGAGAGAGAG',\n",
       "  '@B@FFFFFHHFHGIIJJJIIHIGHDFFHCHFGEHHGGHIIHIIJGIJIEHFFFFFDBCBDBDDBDDDDDDBB?@8?2<(00<<?@@B?@@@8<???<??@',\n",
       "  'NH:i:1',\n",
       "  'HI:i:1',\n",
       "  'AS:i:80',\n",
       "  'nM:i:7'],\n",
       " ['ERR1138638.2006680',\n",
       "  '16',\n",
       "  'NC_000072.6:c48573845-48568696',\n",
       "  '2054',\n",
       "  '255',\n",
       "  '10M1443N90M',\n",
       "  '*',\n",
       "  '0',\n",
       "  '0',\n",
       "  'ACCAAACGGGAGAAGGCGGAAATGCCTGGCCTGCATTAAAATGGACCCCAAGGGTAAAATTCTAGGCCGGATAGTCCACTGCCCAATTCTGAAGCAAGGG',\n",
       "  '?DBDB?BDDDDDDDDBDEEDDCBDDDDFFFFGHHFHHIGIGHHF@IGIIIFJJJJIJJJIJIJIIGJJFJIIGIIGGCGGGDGIJGHHGHFFAFFFF@CC',\n",
       "  'NH:i:1',\n",
       "  'HI:i:1',\n",
       "  'AS:i:97',\n",
       "  'nM:i:0'],\n",
       " ['ERR1138638.2007344',\n",
       "  '16',\n",
       "  'NC_000072.6:c48573845-48568696',\n",
       "  '2021',\n",
       "  '255',\n",
       "  '43M1443N57M',\n",
       "  '*',\n",
       "  '0',\n",
       "  '0',\n",
       "  'GAAGGACTGGAAAAAGCCGGAGTGCACAATCAAACCAAACGGGAGAAGGCGGAAATGCCTGGCCTGCATTAAAATGGACCCCAAGGGTAAAATTCTAGGC',\n",
       "  'DDDDDDDEDDDDDDDDDDDDDDEEDEEEEFFFFFHHHJHJJJJJJJJJJJJJJJJJJJJJJJJJJJJJJJJJJJJIHFJJJJJJJJJHHHHHFFFFFCCC',\n",
       "  'NH:i:1',\n",
       "  'HI:i:1',\n",
       "  'AS:i:97',\n",
       "  'nM:i:0'],\n",
       " ['ERR1138638.2010336',\n",
       "  '0',\n",
       "  'NC_000072.6:c48573845-48568696',\n",
       "  '4665',\n",
       "  '3',\n",
       "  '5S95M',\n",
       "  '*',\n",
       "  '0',\n",
       "  '0',\n",
       "  'CAGAGAGAGAGAGAGAGAGAGAGAGAGAGAGAGAGAGAGAGAGAGAGAGAGAGAGAGAGAGAGAGAGAGAGAGAGAGAGAGAGAGAGAGAGAGAGAGAGA',\n",
       "  'CCCDFDDDHFHFFFHGHIHIIHIHHDHFHCHGHHIGGGIGHHGGEHIEHEHFFEFBCDDBBBB@BBBDDDDBBBDDD<@<8?@BD?B?B<@(2<<BDDBB',\n",
       "  'NH:i:2',\n",
       "  'HI:i:1',\n",
       "  'AS:i:81',\n",
       "  'nM:i:6'],\n",
       " ['ERR1138638.2010336',\n",
       "  '256',\n",
       "  'NC_000072.6:c48573845-48568696',\n",
       "  '4675',\n",
       "  '3',\n",
       "  '1S86M13S',\n",
       "  '*',\n",
       "  '0',\n",
       "  '0',\n",
       "  'CAGAGAGAGAGAGAGAGAGAGAGAGAGAGAGAGAGAGAGAGAGAGAGAGAGAGAGAGAGAGAGAGAGAGAGAGAGAGAGAGAGAGAGAGAGAGAGAGAGA',\n",
       "  'CCCDFDDDHFHFFFHGHIHIIHIHHDHFHCHGHHIGGGIGHHGGEHIEHEHFFEFBCDDBBBB@BBBDDDDBBBDDD<@<8?@BD?B?B<@(2<<BDDBB',\n",
       "  'NH:i:2',\n",
       "  'HI:i:2',\n",
       "  'AS:i:80',\n",
       "  'nM:i:2'],\n",
       " ['ERR1138638.2016565',\n",
       "  '16',\n",
       "  'NC_000072.6:c48573845-48568696',\n",
       "  '2052',\n",
       "  '255',\n",
       "  '12M1443N88M',\n",
       "  '*',\n",
       "  '0',\n",
       "  '0',\n",
       "  'AAACCAAACGGGAGAAGGCGGAAATGCCTGGCCTGCATTAAAATGGACCCCAAGGGTAAAATTCTAGGCCGGATAGTCCACTGCCCAATTCTGAAGCAAG',\n",
       "  'DDBDDDDDDDDDDDBBD@DEEDDEDDDDFFFHHHHHJJJJJJIJIHHJJJJJJIJJJJJJJJJJIJJJJJJJIIJJJJIHJJJJJJJHHHHHFFFFFCCC',\n",
       "  'NH:i:1',\n",
       "  'HI:i:1',\n",
       "  'AS:i:97',\n",
       "  'nM:i:0'],\n",
       " ['ERR1138638.2017304',\n",
       "  '0',\n",
       "  'NC_000072.6:c48573845-48568696',\n",
       "  '4679',\n",
       "  '255',\n",
       "  '82M18S',\n",
       "  '*',\n",
       "  '0',\n",
       "  '0',\n",
       "  'AGAGAGAGAGAGAGAGAGAGAGAGAGAGAGAGAGAGAGAGAGAGAGAGAGAGAGAGAGAGAGAGAGAGAGAGAGAGGGAGAGAGAGAAAGACAGACAGAC',\n",
       "  '@@@DDDDDCFBFFGCF@GFHFHBG?@@BDD;DDHFGCH?GGFHHCHCGA;;?B?DCCA=@=;<@DD?(<<?@<?##########################',\n",
       "  'NH:i:1',\n",
       "  'HI:i:1',\n",
       "  'AS:i:76',\n",
       "  'nM:i:2'],\n",
       " ['ERR1138638.2024493',\n",
       "  '16',\n",
       "  'NC_000072.6:c48573845-48568696',\n",
       "  '3849',\n",
       "  '255',\n",
       "  '57M135N43M',\n",
       "  '*',\n",
       "  '0',\n",
       "  '0',\n",
       "  'CCTACCTGGACAGTTTGCCTTCTCCAGGGCCCTGAGAACCAAATAAGCCCTAGACAGGACTTCACCTTACTCCCTGTACAGCTGTGGCAGCACCCAGCAG',\n",
       "  'DDDCDDDDDDDDDDDDDDDEEEEDFFFHHHJJIJJIJIJJJJJJJJJJJJJJJJIIJJIIIHHFJJJHGIIJJIJJJJJJJJIJJJJHHHHHFFFFFCCC',\n",
       "  'NH:i:1',\n",
       "  'HI:i:1',\n",
       "  'AS:i:98',\n",
       "  'nM:i:0']]"
      ]
     },
     "execution_count": 13,
     "metadata": {},
     "output_type": "execute_result"
    }
   ],
   "source": [
    "fname[101:120]"
   ]
  },
  {
   "cell_type": "code",
   "execution_count": 2,
   "metadata": {
    "collapsed": false
   },
   "outputs": [
    {
     "name": "stdout",
     "output_type": "stream",
     "text": [
      "23227\n",
      "23227\n"
     ]
    }
   ],
   "source": [
    "bed = open('E-MTAB-4052/ERR1138638Aligned.out.bed').readlines()\n",
    "bed = [i.strip().split('\\t') for i in bed]\n",
    "\n",
    "ids = [i[3] for i in bed]\n",
    "\n",
    "splits = bed #[i for i in bed if ids.count(i[3]) == 2]\n",
    "print len(bed)\n",
    "print len(splits)\n",
    "starts = set([int(i[1]) for i in splits])\n",
    "stops = set([int(i[2]) for i in splits])"
   ]
  },
  {
   "cell_type": "code",
   "execution_count": 3,
   "metadata": {
    "collapsed": false
   },
   "outputs": [],
   "source": [
    "pos = {i:0 for i in range(max(stops)+1000)}\n",
    "split_pos = {i:0 for i in range(max(stops)+1000)}\n",
    "for i in bed:\n",
    "    if int(i[2]) - int(i[1]) < 3:\n",
    "        continue\n",
    "    for k in range(int(i[1]), int(i[2])):\n",
    "        pos[k] += 1\n",
    "\n",
    "for i in splits:\n",
    "    if int(i[2]) - int(i[1]) < 3:\n",
    "        continue\n",
    "    for k in range(int(i[1]), int(i[2])):\n",
    "        split_pos[k] += 1\n"
   ]
  },
  {
   "cell_type": "code",
   "execution_count": 4,
   "metadata": {
    "collapsed": false
   },
   "outputs": [
    {
     "data": {
      "text/plain": [
       "(3500, 4200)"
      ]
     },
     "execution_count": 4,
     "metadata": {},
     "output_type": "execute_result"
    },
    {
     "data": {
      "image/png": "[encoded data removed]",
      "text/plain": [
       "<matplotlib.figure.Figure at 0x7f8cc3505f10>"
      ]
     },
     "metadata": {},
     "output_type": "display_data"
    }
   ],
   "source": [
    "%matplotlib inline\n",
    "import matplotlib.pylab as pl\n",
    "\n",
    "pl.rcParams['figure.figsize'] = 16,9\n",
    "\n",
    "pl.plot([i[0] for i in pos.iteritems()],[i[1] for i in pos.iteritems()])\n",
    "pl.plot([i[0] for i in split_pos.iteritems()],[i[1] for i in split_pos.iteritems()])\n",
    "pl.ylim(0,1000)\n",
    "pl.xlim(3500,4200)"
   ]
  },
  {
   "cell_type": "code",
   "execution_count": 3,
   "metadata": {
    "collapsed": false
   },
   "outputs": [],
   "source": [
    "splitdict = {}\n",
    "for i in splits:\n",
    "    try:\n",
    "        splitdict[i[3]].append([i[1],i[2]])\n",
    "    except:\n",
    "        splitdict[i[3]] = [[i[1],i[2]]]\n",
    "        \n"
   ]
  },
  {
   "cell_type": "code",
   "execution_count": 31,
   "metadata": {
    "collapsed": false
   },
   "outputs": [
    {
     "data": {
      "text/plain": [
       "(3500, 4000)"
      ]
     },
     "execution_count": 31,
     "metadata": {},
     "output_type": "execute_result"
    },
    {
     "data": {
      "image/png": "[encoded data removed]",
      "text/plain": [
       "<matplotlib.figure.Figure at 0x7f069a96ef90>"
      ]
     },
     "metadata": {},
     "output_type": "display_data"
    }
   ],
   "source": [
    "%matplotlib inline\n",
    "import matplotlib.pylab as pl\n",
    "pl.rcParams['figure.figsize'] = 16,9\n",
    "pos_intron = {i:0 for i in range(max(stops)+1000)}\n",
    "\n",
    "ranges = {}\n",
    "\n",
    "for i in splitdict.iteritems():\n",
    "    if len(i[1]) != 2:\n",
    "        continue\n",
    "    if int(i[1][1][0]) - int(i[1][0][1]) > 500:\n",
    "        continue\n",
    "    for k in range(int(i[1][0][1]),int(i[1][1][0])):\n",
    "        \n",
    "        try:\n",
    "            ranges[(i[1][0][1], i[1][1][0])] += 1\n",
    "        except:\n",
    "            ranges[(i[1][0][1], i[1][1][0])] = 1\n",
    "        pos_intron[k] += 1\n",
    "pl.plot([i[0] for i in pos_intron.iteritems()],[i[1] for i in pos_intron.iteritems()],'.')\n",
    "pl.ylim(0,100)\n",
    "pl.xlim(3500,4000)"
   ]
  },
  {
   "cell_type": "code",
   "execution_count": 37,
   "metadata": {
    "collapsed": false
   },
   "outputs": [
    {
     "name": "stdout",
     "output_type": "stream",
     "text": [
      "(('3602', '3795'), 193)\n",
      "(('3602', '3786'), 211232)\n",
      "(('3602', '3783'), 104980)\n",
      "(('3602', '3817'), 1075)\n",
      "(('3602', '4080'), 478)\n",
      "(('3602', '3813'), 2110)\n",
      "\n",
      "\n",
      "(('4453', '4678'), 225)\n",
      "\n",
      "\n",
      "(('3905', '4040'), 216270)\n",
      "\n",
      "\n",
      "(('4759', '5130'), 371)\n",
      "\n",
      "\n",
      "(('1106', '1555'), 4939)\n",
      "\n",
      "\n",
      "(('1252', '1563'), 311)\n",
      "(('1252', '1555'), 473286)\n",
      "\n",
      "\n",
      "(('1687', '1693'), 6)\n",
      "\n",
      "\n",
      "(('1758', '1958'), 366800)\n",
      "\n",
      "\n",
      "(('1755', '1958'), 203)\n",
      "\n",
      "\n"
     ]
    }
   ],
   "source": [
    "def translate(seq):\n",
    "    codontable = {\n",
    "    'ATA':'I', 'ATC':'I', 'ATT':'I', 'ATG':'M',\n",
    "    'ACA':'T', 'ACC':'T', 'ACG':'T', 'ACT':'T',\n",
    "    'AAC':'N', 'AAT':'N', 'AAA':'K', 'AAG':'K',\n",
    "    'AGC':'S', 'AGT':'S', 'AGA':'R', 'AGG':'R',\n",
    "    'CTA':'L', 'CTC':'L', 'CTG':'L', 'CTT':'L',\n",
    "    'CCA':'P', 'CCC':'P', 'CCG':'P', 'CCT':'P',\n",
    "    'CAC':'H', 'CAT':'H', 'CAA':'Q', 'CAG':'Q',\n",
    "    'CGA':'R', 'CGC':'R', 'CGG':'R', 'CGT':'R',\n",
    "    'GTA':'V', 'GTC':'V', 'GTG':'V', 'GTT':'V',\n",
    "    'GCA':'A', 'GCC':'A', 'GCG':'A', 'GCT':'A',\n",
    "    'GAC':'D', 'GAT':'D', 'GAA':'E', 'GAG':'E',\n",
    "    'GGA':'G', 'GGC':'G', 'GGG':'G', 'GGT':'G',\n",
    "    'TCA':'S', 'TCC':'S', 'TCG':'S', 'TCT':'S',\n",
    "    'TTC':'F', 'TTT':'F', 'TTA':'L', 'TTG':'L',\n",
    "    'TAC':'Y', 'TAT':'Y', 'TAA':'_', 'TAG':'_',\n",
    "    'TGC':'C', 'TGT':'C', 'TGA':'_', 'TGG':'W',\n",
    "    }\n",
    "    seq = seq.upper()\n",
    "    seq = seq[:len(seq) - len(seq)%3]\n",
    "    prot_seq = [codontable[seq[i:i+3]] for i in range(len(seq))[::3]]\n",
    "    return ''.join(prot_seq)\n",
    "\n",
    "genomic = open('rarr2_mouse.fa').readlines()[1:]\n",
    "genomic = ''.join([i.strip() for i in genomic])\n",
    "\n",
    "intron_starts = set([i[0] for i in ranges.iterkeys()])\n",
    "\n",
    "for i in intron_starts:\n",
    "    for k in ranges.iteritems():\n",
    "        if i == k[0][0]:\n",
    "            print k\n",
    "    print '\\n'\n",
    "\n"
   ]
  },
  {
   "cell_type": "code",
   "execution_count": 1,
   "metadata": {
    "collapsed": false
   },
   "outputs": [
    {
     "name": "stdout",
     "output_type": "stream",
     "text": [
      "./E-MTAB-4052/ERR1138640Aligned.out.sam\n",
      "samtools view ./E-MTAB-4052/ERR1138640Aligned.out.sam -b > ./E-MTAB-4052/ERR1138640Aligned.out.bam\n",
      "bedtools bamtobed -i ./E-MTAB-4052/ERR1138640Aligned.out.bam -split  > ./E-MTAB-4052/ERR1138640Aligned.out.bed\n",
      "./E-MTAB-4052/ERR1138640Aligned.out.sam\n",
      "11112\n"
     ]
    },
    {
     "ename": "NameError",
     "evalue": "name 'stops' is not defined",
     "output_type": "error",
     "traceback": [
      "\u001b[0;31m---------------------------------------------------------------------------\u001b[0m",
      "\u001b[0;31mNameError\u001b[0m                                 Traceback (most recent call last)",
      "\u001b[0;32m<ipython-input-1-f6b976793836>\u001b[0m in \u001b[0;36m<module>\u001b[0;34m()\u001b[0m\n\u001b[1;32m     32\u001b[0m \u001b[0;34m\u001b[0m\u001b[0m\n\u001b[1;32m     33\u001b[0m \u001b[0;34m\u001b[0m\u001b[0m\n\u001b[0;32m---> 34\u001b[0;31m     \u001b[0mpos_intron\u001b[0m \u001b[0;34m=\u001b[0m \u001b[0;34m{\u001b[0m\u001b[0mi\u001b[0m\u001b[0;34m:\u001b[0m\u001b[0;36m0\u001b[0m \u001b[0;32mfor\u001b[0m \u001b[0mi\u001b[0m \u001b[0;32min\u001b[0m \u001b[0mrange\u001b[0m\u001b[0;34m(\u001b[0m\u001b[0mmax\u001b[0m\u001b[0;34m(\u001b[0m\u001b[0mstops\u001b[0m\u001b[0;34m)\u001b[0m\u001b[0;34m+\u001b[0m\u001b[0;36m1000\u001b[0m\u001b[0;34m)\u001b[0m\u001b[0;34m}\u001b[0m\u001b[0;34m\u001b[0m\u001b[0m\n\u001b[0m\u001b[1;32m     35\u001b[0m     \u001b[0;32mfor\u001b[0m \u001b[0mi\u001b[0m \u001b[0;32min\u001b[0m \u001b[0msplitdict\u001b[0m\u001b[0;34m.\u001b[0m\u001b[0miteritems\u001b[0m\u001b[0;34m(\u001b[0m\u001b[0;34m)\u001b[0m\u001b[0;34m:\u001b[0m\u001b[0;34m\u001b[0m\u001b[0m\n\u001b[1;32m     36\u001b[0m         \u001b[0;32mif\u001b[0m \u001b[0mlen\u001b[0m\u001b[0;34m(\u001b[0m\u001b[0mi\u001b[0m\u001b[0;34m[\u001b[0m\u001b[0;36m1\u001b[0m\u001b[0;34m]\u001b[0m\u001b[0;34m)\u001b[0m \u001b[0;34m>\u001b[0m \u001b[0;36m2\u001b[0m\u001b[0;34m:\u001b[0m\u001b[0;34m\u001b[0m\u001b[0m\n",
      "\u001b[0;31mNameError\u001b[0m: name 'stops' is not defined"
     ]
    }
   ],
   "source": [
    "''' This is a prototype of pipeline - olneliner set'''\n",
    "%matplotlib inline\n",
    "import matplotlib.pylab as pl\n",
    "\n",
    "pl.rcParams['figure.figsize'] = 16,9\n",
    "import os\n",
    "\n",
    "inputs = os.listdir('E-MTAB-4052/')\n",
    "inputs = ['./E-MTAB-4052/{}'.format(i) for i in inputs if '.sam' in i]\n",
    "\n",
    "for i in inputs:\n",
    "    print i\n",
    "    if '39' in i:\n",
    "        continue\n",
    "    print 'samtools view {} -b > {}'.format(i, i.replace('.sam','.bam'))\n",
    "    #os.system('samtools view {} -b > {}'.format(i, i.replace('.sam','.bam')))\n",
    "    print 'bedtools bamtobed -i {} -split  > {}'.format(i.replace('.sam','.bam'), i.replace('.sam','.bed'))\n",
    "    #os.system('bedtools bamtobed -i {} -split  > {}'.format(i.replace('.sam','.bam'), i.replace('.sam','.bed')))\n",
    "    print i\n",
    "    bed = open(i.replace('.sam','.bed')).readlines()\n",
    "    bed = [i.strip().split('\\t') for i in bed]\n",
    "    print len(bed)\n",
    "    ids = [i[3] for i in bed]\n",
    "\n",
    "    splits = [i for i in bed if ids.count(i[3]) > 1]\n",
    "    splitdict = {}\n",
    "    for i in splits:\n",
    "        try:\n",
    "            splitdict[i[3]].append([i[1],i[2]])\n",
    "        except:\n",
    "            splitdict[i[3]] = [[i[1],i[2]]]\n",
    "    \n",
    "    \n",
    "    pos_intron = {i:0 for i in range(max(stops)+1000)}\n",
    "    for i in splitdict.iteritems():\n",
    "        if len(i[1]) > 2:\n",
    "            continue\n",
    "        for k in range(int(i[1][0][1]),int(i[1][1][0])):\n",
    "            pos_intron[k] += 1\n",
    "        pl.plot([i[0] for i in pos_intron.iteritems()],[i[1] for i in pos_intron.iteritems()])\n",
    "        pl.ylim(0,1000)"
   ]
  },
  {
   "cell_type": "code",
   "execution_count": 2,
   "metadata": {
    "collapsed": false
   },
   "outputs": [
    {
     "name": "stdout",
     "output_type": "stream",
     "text": [
      "(410, 4678)\n",
      "(1106, 1555)\n",
      "(1252, 1555)\n",
      "(1252, 1563)\n",
      "(1252, 1958)\n",
      "(1758, 1958)\n",
      "(1758, 1968)\n",
      "(2037, 3512)\n",
      "(2063, 3506)\n",
      "(2063, 3511)\n",
      "(2063, 4596)\n",
      "(2067, 3511)\n",
      "(3405, 3506)\n",
      "(3602, 3756)\n",
      "(3602, 3783)\n",
      "(3602, 3786)\n",
      "(3602, 3795)\n",
      "(3602, 3813)\n",
      "(3602, 3817)\n",
      "(3602, 4080)\n",
      "(3602, 4650)\n",
      "(3905, 4040)\n",
      "set([(1958, 2067), (1563, 3905), (1555, 2067), (1563, 2063), (3506, 3602), (0, 1106), (1958, 2037), (1563, 3405), (1555, 2063), (1968, 2037), (1555, 3405), (3512, 3905), (0, 1758), (3511, 3602), (1555, 2037), (0, 3905), (1555, 3602), (1968, 2063), (3817, 3905), (0, 2063), (1563, 2037), (1968, 3405), (1958, 3405), (1563, 1758), (3511, 3905), (3813, 3905), (1555, 3905), (1555, 1758), (0, 2037), (3512, 3602), (3783, 3905), (1958, 3905), (0, 3405), (1563, 2067), (0, 3602), (1968, 3905), (3786, 3905), (0, 1252), (1958, 2063), (1968, 3602), (1958, 3602), (3756, 3905), (0, 410), (1563, 3602), (1968, 2067), (3795, 3905), (0, 2067), (3506, 3905)])\n"
     ]
    }
   ],
   "source": [
    "variants =[(int(i[0]),int(i[1])) for i in [('3405', '3506'), ('3602', '3795'), ('3602', '4080'), ('3602', '3783'), ('3602', '3786'), ('3602', '3817'), ('3602', '3813'), ('3602', '4650'), ('3602', '3756'), ('3905', '4040'), ('1106', '1555'), ('2037', '3512'), ('1252', '1563'), ('1252', '1958'), ('1252', '1555'), ('1758', '1968'), ('1758', '1958'), ('410', '4678'), ('2063', '4596'), ('2063', '3511'), ('2063', '3506'), ('2067', '3511')]]\n",
    "for i in sorted(variants):\n",
    "    print i\n",
    "    \n",
    "rarres2 = ''.join(open('rarr2_mouse.fa').readlines()[1:]).replace('\\n','')\n",
    "\n",
    "''' exon:\n",
    "    -E1 start from 0 to every n[0]\n",
    "    -E2 if n[0] > n-1[1] \n",
    "    - ...\n",
    "    '''\n",
    "exons0 = [rarres2[0:i[0]]for i  in variants]\n",
    "exonpairs = set()\n",
    "variants.append((0,0))\n",
    "for i in variants:\n",
    "    for k in variants:\n",
    "        if i[1] < k[0]:\n",
    "            exonpairs.add((i[1],k[0]))\n",
    "            \n",
    "print exonpairs"
   ]
  },
  {
   "cell_type": "code",
   "execution_count": 42,
   "metadata": {
    "collapsed": false
   },
   "outputs": [],
   "source": [
    "def get_trans(first_exon, exonpairs, e_no):\n",
    "    ''' exons is set of exon boundaries, e_no is no of exont to build'''\n",
    "    False:\n",
    "        "
   ]
  },
  {
   "cell_type": "code",
   "execution_count": 2,
   "metadata": {
    "collapsed": false
   },
   "outputs": [
    {
     "name": "stdout",
     "output_type": "stream",
     "text": [
      "(1958, 2067)\n"
     ]
    }
   ],
   "source": [
    "print list(exonpairs)[0]\n",
    "import itertools\n",
    "\n",
    "comb = itertools.combinations(exonpairs,6)"
   ]
  },
  {
   "cell_type": "code",
   "execution_count": 4,
   "metadata": {
    "collapsed": false
   },
   "outputs": [],
   "source": [
    "comb = [sorted(i) for i in comb]"
   ]
  },
  {
   "cell_type": "code",
   "execution_count": 9,
   "metadata": {
    "collapsed": false
   },
   "outputs": [
    {
     "data": {
      "text/plain": [
       "[[(0, 1106),\n",
       "  (1555, 2067),\n",
       "  (1563, 2063),\n",
       "  (1563, 3905),\n",
       "  (1958, 2067),\n",
       "  (3506, 3602)],\n",
       " [(1555, 2067),\n",
       "  (1563, 2063),\n",
       "  (1563, 3905),\n",
       "  (1958, 2037),\n",
       "  (1958, 2067),\n",
       "  (3506, 3602)],\n",
       " [(1555, 2067),\n",
       "  (1563, 2063),\n",
       "  (1563, 3405),\n",
       "  (1563, 3905),\n",
       "  (1958, 2067),\n",
       "  (3506, 3602)],\n",
       " [(1555, 2063),\n",
       "  (1555, 2067),\n",
       "  (1563, 2063),\n",
       "  (1563, 3905),\n",
       "  (1958, 2067),\n",
       "  (3506, 3602)]]"
      ]
     },
     "execution_count": 9,
     "metadata": {},
     "output_type": "execute_result"
    }
   ],
   "source": []
  },
  {
   "cell_type": "code",
   "execution_count": 42,
   "metadata": {
    "collapsed": false
   },
   "outputs": [
    {
     "name": "stdout",
     "output_type": "stream",
     "text": [
      "162.0\n",
      "127.0\n"
     ]
    }
   ],
   "source": [
    "rarres2_mrna= 'GCCGCCCCGCGAGAAGAAGAGCGGGAAGAGGCGGACAGCGAGGCCAAGATTTCAGCTGCGGGACGGTCAGGGGAGACCTCCAGGCGCAGGGAAGGACGGCCAGGGTGACACGGAAGCATGCGACGGCTGCTGATCCCTCTGGCCCTGTGGCTGGGTGCGGTGGGCGTGGGCGTCGCCGAGCTCACGGAAGCCCAGCGCCGGGGCCTGCAGGTGGCCCTGGAGGAATTTCACAAGCACCCGCCCGTGCAGTGGGCCTTCCAGGAGACCAGTGTGGAGAGCGCCGTGGACACGCCCTTCCCAGCTGGAATATTTGTGAGGCTGGAATTTAAGCTGCAGCAGACAAGCTGCCGGAAGAGGGACTGGAAGAAACCCGAGTGCAAAGTCAGGCCCAATGGGAGGAAACGGAAATGCCTGGCCTGCATCAAACTGGGCTCTGAGGACAAAGTTCTGGGCCGGTTGGTCCACTGCCCCATAGAGACCCAAGTTCTGCGGGAGGCTGAGGAGCACCAGGAGACCCAGTGCCTCAGGGTGCAGCGGGCTGGTGAGGACCCCCACAGCTTCTACTTCCCTGGACAGTTCGCCTTCTCCAAGGCCCTGCCCCGCAGCTAAGCCAGCACTGAGATGCGTGGTGCCTCCAGGACCGCTGCGGGTGGTAACCAGTGGAAGACCCCAGCCCCCAGGGAGAGGAACCCGTTCTATCCCCAGCCATGATAATAAAGCTGCTCTCCCAGCTGCCTCTCAAAAAAAAAAAAAAAAAAAAAAAAAAA'\n",
    "rarres2_mrna= 'AAGAGGAAGGTCAGGGAACTTTGGGAAACAGAAAACTCCAAAACTCCGGACTCTGGGAGAAGGAACCATAGGACTGAGGTGAAGCCATGAAGTGCTTGCTGATCTCCCTAGCCCTATGGCTGGGCACAGTGGGCACACGTGGGACAGAGCCCGAACTCAGCGAGACCCAGCGCAGGAGCCTACAGGTGGCTCTGGAGGAGTTCCACAAACACCCACCTGTGCAGTTGGCCTTCCAAGAGATCGGTGTGGACAGAGCTGAAGAAGTGCTCTTCTCAGCTGGCACCTTTGTGAGGTTGGAATTTAAGCTCCAGCAGACCAACTGCCCCAAGAAGGACTGGAAAAAGCCGGAGTGCACAATCAAACCAAACGGGAGAAGGCGGAAATGCCTGGCCTGCATTAAAATGGACCCCAAGGGTAAAATTCTAGGCCGGATAGTCCACTGCCCAATTCTGAAGCAAGGGCCTCAGGATCCTCAGGAGTTGCAATGCATTAAGATAGCACAGGCTGGCGAAGACCCCCACGGCTACTTCCTACCTGGACAGTTTGCCTTCTCCAGGGCCCTGAGAACCAAATAAGCCCTAGACAGGACTTCACCTTACTCCCTGTACAGCTGTGGCAGCACCCAGCAGGAGCATATCGTCTCCCAGAGACTTTCAACTCCAGGCTAATAAAATTGCTGAGTCTGTTCCTTTCCAA'\n",
    "stand = rarres2_mrna[87-1:572]\n",
    "dele = rarres2_mrna[87-1:447+21-1] + rarres2_mrna[447+21 + 294 -1:572]\n",
    "\n",
    "print len(stand)/3.\n",
    "print len(dele)/3."
   ]
  },
  {
   "cell_type": "code",
   "execution_count": 43,
   "metadata": {
    "collapsed": false
   },
   "outputs": [
    {
     "name": "stdout",
     "output_type": "stream",
     "text": [
      "ATGAAGTGCTTGCTGATCTCCCTAGCCCTATGGCTGGGCACAGTGGGCACACGTGGGACAGAGCCCGAACTCAGCGAGACCCAGCGCAGGAGCCTACAGGTGGCTCTGGAGGAGTTCCACAAACACCCACCTGTGCAGTTGGCCTTCCAAGAGATCGGTGTGGACAGAGCTGAAGAAGTGCTCTTCTCAGCTGGCACCTTTGTGAGGTTGGAATTTAAGCTCCAGCAGACCAACTGCCCCAAGAAGGACTGGAAAAAGCCGGAGTGCACAATCAAACCAAACGGGAGAAGGCGGAAATGCCTGGCCTGCATTAAAATGGACCCCAAGGGTAAAATTCTAGGCCGGATAGTCCACTGCCCAATTCTGAAGCAAGGGCCTCAGGATCCTCAGGAGTTGCAATGCATTAAGATAGCACAGGCTGGCGAAGACCCCCACGGCTACTTCCTACCTGGACAGTTTGCCTTCTCCAGGGCCCTGAGAACCAAA\n",
      "\n",
      "ATGAAGTGCTTGCTGATCTCCCTAGCCCTATGGCTGGGCACAGTGGGCACACGTGGGACAGAGCCCGAACTCAGCGAGACCCAGCGCAGGAGCCTACAGGTGGCTCTGGAGGAGTTCCACAAACACCCACCTGTGCAGTTGGCCTTCCAAGAGATCGGTGTGGACAGAGCTGAAGAAGTGCTCTTCTCAGCTGGCACCTTTGTGAGGTTGGAATTTAAGCTCCAGCAGACCAACTGCCCCAAGAAGGACTGGAAAAAGCCGGAGTGCACAATCAAACCAAACGGGAGAAGGCGGAAATGCCTGGCCTGCATTAAAATGGACCCCAAGGGTAAAATTCTAGGCCGGATAGTCCACTGCCCAATTCTGAAGCAAGGGCCTCAG\n"
     ]
    }
   ],
   "source": [
    "print stand\n",
    "print''\n",
    "print dele"
   ]
  },
  {
   "cell_type": "code",
   "execution_count": 54,
   "metadata": {
    "collapsed": false
   },
   "outputs": [
    {
     "name": "stdout",
     "output_type": "stream",
     "text": [
      "bigdelinsertQ 23.7\n",
      "insertQ 36.81\n",
      "cutintron5 4.17\n",
      "def 11.07\n",
      "bigdel 24.25\n"
     ]
    }
   ],
   "source": [
    "a = open('../flux/rarres2_frags09.fa').readlines()\n",
    "a = [i.split()[0] for i in a if i[0] == '>']\n",
    "a = [i.split('_')[-1] for i in a]\n",
    "quants = {i:a.count(i) for i in set(a)}\n",
    "suma = float(sum(quants.values()))\n",
    "for i in quants.items():\n",
    "    print i[0], 100*i[1]/suma"
   ]
  },
  {
   "cell_type": "code",
   "execution_count": null,
   "metadata": {
    "collapsed": true
   },
   "outputs": [],
   "source": []
  },
  {
   "cell_type": "code",
   "execution_count": 5,
   "metadata": {
    "collapsed": false
   },
   "outputs": [
    {
     "name": "stdout",
     "output_type": "stream",
     "text": [
      "[(410, 4678), (1106, 1555), (1252, 1555), (1252, 1563), (1252, 1958), (1758, 1958), (1758, 1968), (2037, 3512), (2063, 3506), (2063, 3511), (2063, 4596), (2067, 3511), (3405, 3506), (3602, 3756), (3602, 3783), (3602, 3786), (3602, 3795), (3602, 3813), (3602, 3817), (3602, 4080), (3602, 4650), (3905, 4040)]\n"
     ]
    }
   ],
   "source": [
    "    ''' search fo rspiced rna '''\n",
    "\n",
    "variants =[(int(i[0]),int(i[1])) for i in [('3405', '3506'), ('3602', '3795'), ('3602', '4080'), ('3602', '3783'), ('3602', '3786'), ('3602', '3817'), ('3602', '3813'), ('3602', '4650'), ('3602', '3756'), ('3905', '4040'), ('1106', '1555'), ('2037', '3512'), ('1252', '1563'), ('1252', '1958'), ('1252', '1555'), ('1758', '1968'), ('1758', '1958'), ('410', '4678'), ('2063', '4596'), ('2063', '3511'), ('2063', '3506'), ('2067', '3511')]]\n",
    "print sorted(variants)\n",
    "rarres2_mrna= 'GCCGCCCCGCGAGAAGAAGAGCGGGAAGAGGCGGACAGCGAGGCCAAGATTTCAGCTGCGGGACGGTCAGGGGAGACCTCCAGGCGCAGGGAAGGACGGCCAGGGTGACACGGAAGCATGCGACGGCTGCTGATCCCTCTGGCCCTGTGGCTGGGTGCGGTGGGCGTGGGCGTCGCCGAGCTCACGGAAGCCCAGCGCCGGGGCCTGCAGGTGGCCCTGGAGGAATTTCACAAGCACCCGCCCGTGCAGTGGGCCTTCCAGGAGACCAGTGTGGAGAGCGCCGTGGACACGCCCTTCCCAGCTGGAATATTTGTGAGGCTGGAATTTAAGCTGCAGCAGACAAGCTGCCGGAAGAGGGACTGGAAGAAACCCGAGTGCAAAGTCAGGCCCAATGGGAGGAAACGGAAATGCCTGGCCTGCATCAAACTGGGCTCTGAGGACAAAGTTCTGGGCCGGTTGGTCCACTGCCCCATAGAGACCCAAGTTCTGCGGGAGGCTGAGGAGCACCAGGAGACCCAGTGCCTCAGGGTGCAGCGGGCTGGTGAGGACCCCCACAGCTTCTACTTCCCTGGACAGTTCGCCTTCTCCAAGGCCCTGCCCCGCAGCTAAGCCAGCACTGAGATGCGTGGTGCCTCCAGGACCGCTGCGGGTGGTAACCAGTGGAAGACCCCAGCCCCCAGGGAGAGGAACCCGTTCTATCCCCAGCCATGATAATAAAGCTGCTCTCCCAGCTGCCTCTCAAAAAAAAAAAAAAAAAAAAAAAAAAA'\n",
    "rarres2_mrna= 'AAGAGGAAGGTCAGGGAACTTTGGGAAACAGAAAACTCCAAAACTCCGGACTCTGGGAGAAGGAACCATAGGACTGAGGTGAAGCCATGAAGTGCTTGCTGATCTCCCTAGCCCTATGGCTGGGCACAGTGGGCACACGTGGGACAGAGCCCGAACTCAGCGAGACCCAGCGCAGGAGCCTACAGGTGGCTCTGGAGGAGTTCCACAAACACCCACCTGTGCAGTTGGCCTTCCAAGAGATCGGTGTGGACAGAGCTGAAGAAGTGCTCTTCTCAGCTGGCACCTTTGTGAGGTTGGAATTTAAGCTCCAGCAGACCAACTGCCCCAAGAAGGACTGGAAAAAGCCGGAGTGCACAATCAAACCAAACGGGAGAAGGCGGAAATGCCTGGCCTGCATTAAAATGGACCCCAAGGGTAAAATTCTAGGCCGGATAGTCCACTGCCCAATTCTGAAGCAAGGGCCTCAGGATCCTCAGGAGTTGCAATGCATTAAGATAGCACAGGCTGGCGAAGACCCCCACGGCTACTTCCTACCTGGACAGTTTGCCTTCTCCAGGGCCCTGAGAACCAAATAAGCCCTAGACAGGACTTCACCTTACTCCCTGTACAGCTGTGGCAGCACCCAGCAGGAGCATATCGTCTCCCAGAGACTTTCAACTCCAGGCTAATAAAATTGCTGAGTCTGTTCCTTTCCAA'\n",
    "stand = rarres2_mrna[87-1:572]\n",
    "dele = rarres2_mrna[87-1:447+21-1] + rarres2_mrna[447+21 + 294 -1:572]\n",
    "#Procedure:\n",
    "#build all possible exons:\n",
    "#1. start from first base mapped \n",
    "#2. Go to closest "
   ]
  },
  {
   "cell_type": "code",
   "execution_count": 46,
   "metadata": {
    "collapsed": false
   },
   "outputs": [
    {
     "name": "stderr",
     "output_type": "stream",
     "text": [
      "test_case_1 (__main__.TestSplicing) ... "
     ]
    },
    {
     "name": "stdout",
     "output_type": "stream",
     "text": [
      "[(20, 40), (160, 200)]\n",
      "[(20, 300)]\n",
      "[(160, 200)]\n",
      "340\n",
      "120\n",
      "360\n"
     ]
    },
    {
     "name": "stderr",
     "output_type": "stream",
     "text": [
      "ok\n",
      "\n",
      "----------------------------------------------------------------------\n",
      "Ran 1 test in 0.023s\n",
      "\n",
      "OK\n"
     ]
    },
    {
     "data": {
      "text/plain": [
       "<unittest.main.TestProgram at 0x7f17737064d0>"
      ]
     },
     "execution_count": 46,
     "metadata": {},
     "output_type": "execute_result"
    }
   ],
   "source": [
    "\n",
    "\n",
    "def get_mrna(sequence, introns,mrnas=[]):\n",
    "    ''' '''\n",
    "    introns = sorted(introns)\n",
    "    \n",
    "    \n",
    "    first = introns[0]\n",
    "    \n",
    "    intronset = [first]\n",
    "    for intron in introns:\n",
    "        if intron[0] > first[-1]:\n",
    "            intronset.append(intron)\n",
    "            first = intron\n",
    "    mrnas.append(intronset)\n",
    "    if len(introns) > 1:\n",
    "        return get_mrna(sequence,introns[1:],mrnas)\n",
    "\n",
    "    mrnaseqs = []\n",
    "    for splice in mrnas:\n",
    "        seqlist = list(sequence)\n",
    "        print splice\n",
    "        for intron in splice:\n",
    "            seqlist[intron[0]:intron[1]] = ['_']*(intron[1]-intron[0])\n",
    "        mrnaseqs.append(''.join([i for i in seqlist if i != '_']))\n",
    "    for i in mrnaseqs:\n",
    "        print len(i)\n",
    "    return sorted(mrnaseqs)\n",
    "\n",
    "\n",
    "''' test cases '''\n",
    "import unittest\n",
    "\n",
    "class TestSplicing(unittest.TestCase):\n",
    "    def test_case_1(self):\n",
    "        sequence= 'ABCDEFGHIJ'*40 #400bp\n",
    "        introns = [(20,40),(20,300),(160,200)]\n",
    "        result = sorted(['ABCDEFGHIJ'*34,'ABCDEFGHIJ'*36, 'ABCDEFGHIJ'*12])\n",
    "\n",
    "        processed = get_mrna(sequence, introns)\n",
    "        self.assertEqual(processed, result)\n",
    "        \n",
    "unittest.main(argv=['ignored', '-v'], exit=False)"
   ]
  },
  {
   "cell_type": "code",
   "execution_count": 23,
   "metadata": {
    "collapsed": false
   },
   "outputs": [
    {
     "data": {
      "text/plain": [
       "[(20, 40), (20, 300), (160, 200)]"
      ]
     },
     "execution_count": 23,
     "metadata": {},
     "output_type": "execute_result"
    }
   ],
   "source": []
  },
  {
   "cell_type": "code",
   "execution_count": null,
   "metadata": {
    "collapsed": true
   },
   "outputs": [],
   "source": []
  }
 ],
 "metadata": {
  "kernelspec": {
   "display_name": "Python 2",
   "language": "python",
   "name": "python2"
  },
  "language_info": {
   "codemirror_mode": {
    "name": "ipython",
    "version": 2
   },
   "file_extension": ".py",
   "mimetype": "text/x-python",
   "name": "python",
   "nbconvert_exporter": "python",
   "pygments_lexer": "ipython2",
   "version": "2.7.12"
  }
 },
 "nbformat": 4,
 "nbformat_minor": 2
}
